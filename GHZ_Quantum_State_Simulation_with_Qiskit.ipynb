{
  "nbformat": 4,
  "nbformat_minor": 0,
  "metadata": {
    "colab": {
      "provenance": []
    },
    "kernelspec": {
      "name": "python3",
      "display_name": "Python 3"
    },
    "language_info": {
      "name": "python"
    }
  },
  "cells": [
    {
      "cell_type": "markdown",
      "source": [
        "#Exploring the Qiskit SDK for quantum programming through the Greenberger–Horne–Zeilinger Entangeled Quantum State"
      ],
      "metadata": {
        "id": "cyto4zAOVjY1"
      }
    },
    {
      "cell_type": "markdown",
      "source": [
        "Qiskit is a software development kit (SDK) providing acomprehensive platform for quantum programming. Qiskit has been developed by IBM.\n",
        "At the heart of Qiskit are its elements - Terra, Aer, Ignis, and Aqua - each playing a crucial role in the quantum computing ecosystem. In this notebook we work through a baseline quantum simulation using Qiskit, exploring the GHZ entangled quantum state."
      ],
      "metadata": {
        "id": "u7GEP9t-V1tc"
      }
    },
    {
      "cell_type": "markdown",
      "source": [],
      "metadata": {
        "id": "FlM3NFljVhlc"
      }
    },
    {
      "cell_type": "code",
      "source": [
        "# ! pip install qiskit"
      ],
      "metadata": {
        "colab": {
          "base_uri": "https://localhost:8080/"
        },
        "id": "SeIKWdSoYyqQ",
        "outputId": "09f19039-78b4-4ec0-8d6f-14d6ac01f5bd"
      },
      "execution_count": 2,
      "outputs": [
        {
          "output_type": "stream",
          "name": "stdout",
          "text": [
            "Collecting qiskit\n",
            "  Downloading qiskit-1.0.0-cp38-abi3-manylinux_2_17_x86_64.manylinux2014_x86_64.whl (5.6 MB)\n",
            "\u001b[2K     \u001b[90m━━━━━━━━━━━━━━━━━━━━━━━━━━━━━━━━━━━━━━━━\u001b[0m \u001b[32m5.6/5.6 MB\u001b[0m \u001b[31m18.6 MB/s\u001b[0m eta \u001b[36m0:00:00\u001b[0m\n",
            "\u001b[?25hCollecting rustworkx>=0.14.0 (from qiskit)\n",
            "  Downloading rustworkx-0.14.0-cp310-cp310-manylinux_2_17_x86_64.manylinux2014_x86_64.whl (2.2 MB)\n",
            "\u001b[2K     \u001b[90m━━━━━━━━━━━━━━━━━━━━━━━━━━━━━━━━━━━━━━━━\u001b[0m \u001b[32m2.2/2.2 MB\u001b[0m \u001b[31m36.6 MB/s\u001b[0m eta \u001b[36m0:00:00\u001b[0m\n",
            "\u001b[?25hRequirement already satisfied: numpy<2,>=1.17 in /usr/local/lib/python3.10/dist-packages (from qiskit) (1.25.2)\n",
            "Requirement already satisfied: scipy>=1.5 in /usr/local/lib/python3.10/dist-packages (from qiskit) (1.11.4)\n",
            "Requirement already satisfied: sympy>=1.3 in /usr/local/lib/python3.10/dist-packages (from qiskit) (1.12)\n",
            "Collecting dill>=0.3 (from qiskit)\n",
            "  Downloading dill-0.3.8-py3-none-any.whl (116 kB)\n",
            "\u001b[2K     \u001b[90m━━━━━━━━━━━━━━━━━━━━━━━━━━━━━━━━━━━━━━━━\u001b[0m \u001b[32m116.3/116.3 kB\u001b[0m \u001b[31m15.0 MB/s\u001b[0m eta \u001b[36m0:00:00\u001b[0m\n",
            "\u001b[?25hRequirement already satisfied: python-dateutil>=2.8.0 in /usr/local/lib/python3.10/dist-packages (from qiskit) (2.8.2)\n",
            "Collecting stevedore>=3.0.0 (from qiskit)\n",
            "  Downloading stevedore-5.1.0-py3-none-any.whl (49 kB)\n",
            "\u001b[2K     \u001b[90m━━━━━━━━━━━━━━━━━━━━━━━━━━━━━━━━━━━━━━━━\u001b[0m \u001b[32m49.6/49.6 kB\u001b[0m \u001b[31m5.7 MB/s\u001b[0m eta \u001b[36m0:00:00\u001b[0m\n",
            "\u001b[?25hRequirement already satisfied: typing-extensions in /usr/local/lib/python3.10/dist-packages (from qiskit) (4.9.0)\n",
            "Collecting symengine>=0.11 (from qiskit)\n",
            "  Downloading symengine-0.11.0-cp310-cp310-manylinux_2_12_x86_64.manylinux2010_x86_64.whl (39.4 MB)\n",
            "\u001b[2K     \u001b[90m━━━━━━━━━━━━━━━━━━━━━━━━━━━━━━━━━━━━━━━━\u001b[0m \u001b[32m39.4/39.4 MB\u001b[0m \u001b[31m16.4 MB/s\u001b[0m eta \u001b[36m0:00:00\u001b[0m\n",
            "\u001b[?25hRequirement already satisfied: six>=1.5 in /usr/local/lib/python3.10/dist-packages (from python-dateutil>=2.8.0->qiskit) (1.16.0)\n",
            "Collecting pbr!=2.1.0,>=2.0.0 (from stevedore>=3.0.0->qiskit)\n",
            "  Downloading pbr-6.0.0-py2.py3-none-any.whl (107 kB)\n",
            "\u001b[2K     \u001b[90m━━━━━━━━━━━━━━━━━━━━━━━━━━━━━━━━━━━━━━━━\u001b[0m \u001b[32m107.5/107.5 kB\u001b[0m \u001b[31m13.6 MB/s\u001b[0m eta \u001b[36m0:00:00\u001b[0m\n",
            "\u001b[?25hRequirement already satisfied: mpmath>=0.19 in /usr/local/lib/python3.10/dist-packages (from sympy>=1.3->qiskit) (1.3.0)\n",
            "Installing collected packages: symengine, rustworkx, pbr, dill, stevedore, qiskit\n",
            "Successfully installed dill-0.3.8 pbr-6.0.0 qiskit-1.0.0 rustworkx-0.14.0 stevedore-5.1.0 symengine-0.11.0\n"
          ]
        }
      ]
    },
    {
      "cell_type": "code",
      "source": [
        "# https://pypi.org/project/qiskit/"
      ],
      "metadata": {
        "id": "vCGrTz7PY2qS"
      },
      "execution_count": 4,
      "outputs": []
    },
    {
      "cell_type": "markdown",
      "source": [
        "### Imports"
      ],
      "metadata": {
        "id": "PpFNP3KlZYw9"
      }
    },
    {
      "cell_type": "code",
      "source": [
        "import numpy as np\n",
        "import pandas\n",
        "\n",
        "import qiskit\n",
        "from qiskit import QuantumCircuit\n",
        "from qiskit.primitives.sampler import Sampler\n",
        "from qiskit.quantum_info import SparsePauliOp\n",
        "from qiskit.primitives import Estimator\n",
        "from qiskit import transpile"
      ],
      "metadata": {
        "id": "qUbUlPTLZGHn"
      },
      "execution_count": 7,
      "outputs": []
    },
    {
      "cell_type": "markdown",
      "source": [
        "### Create the GHZ Entangled State\n",
        "\n",
        "The entangled state named the GHZ state uses the Hadamard gate (h), the Phase gate (p), and the CNOT gate (cx)."
      ],
      "metadata": {
        "id": "bCq6hySSZas_"
      }
    },
    {
      "cell_type": "code",
      "source": [
        "# Add the classical output, a measurement of all qubits\n",
        "qc_measured = qc_example.measure_all(inplace=False)\n",
        "\n",
        "# Execute using the Sampler primitive\n",
        "from qiskit.primitives.sampler import Sampler\n",
        "sampler = Sampler()\n",
        "job = sampler.run(qc_measured, shots=1000)\n",
        "result = job.result()\n",
        "print(f\" > Quasi probability distribution: {result.quasi_dists}\")"
      ],
      "metadata": {
        "colab": {
          "base_uri": "https://localhost:8080/"
        },
        "id": "LstPLwE5ZR3w",
        "outputId": "9d5e8046-335a-4649-f5e9-856a6675b15a"
      },
      "execution_count": 8,
      "outputs": [
        {
          "output_type": "stream",
          "name": "stdout",
          "text": [
            " > Quasi probability distribution: [{0: 0.515, 7: 0.485}]\n"
          ]
        }
      ]
    },
    {
      "cell_type": "code",
      "source": [
        "# Quantum circuit for preparing the quantum state:\n",
        "qc_example = QuantumCircuit(3)\n",
        "qc_example.h(0)          # generate superpostion\n",
        "qc_example.p(np.pi/2,0)  # add quantum phase\n",
        "qc_example.cx(0,1)       # 0th-qubit-Controlled-NOT gate on 1st qubit\n",
        "qc_example.cx(0,2)       # 0th-qubit-Controlled-NOT gate on 2nd qubit"
      ],
      "metadata": {
        "colab": {
          "base_uri": "https://localhost:8080/"
        },
        "id": "pHPb_4AzZMYl",
        "outputId": "429a4dba-9384-4928-e8a5-953034c8d8fc"
      },
      "execution_count": 10,
      "outputs": [
        {
          "output_type": "execute_result",
          "data": {
            "text/plain": [
              "<qiskit.circuit.instructionset.InstructionSet at 0x79741c937af0>"
            ]
          },
          "metadata": {},
          "execution_count": 10
        }
      ]
    },
    {
      "cell_type": "markdown",
      "source": [
        "The Greenberger-Horne-Zeilinger (GHZ) state demonstrates some peculiarities of quantum entanglement across\n",
        "multiple particles or qubits. Initially studied in the context of four particles by Daniel Greenberger, Michael Horne, and Anton Zeilinger in 1989,\n",
        "and later expanded to three particles by N. David Mermin in 1990, GHZ states involve at least three subsystems that are\n",
        "interconnected in such a way that the state of each particle cannot be described independently of the others."
      ],
      "metadata": {
        "id": "TM9UKIAWS8X9"
      }
    },
    {
      "cell_type": "code",
      "source": [
        "# Add the classical output, a measurement of all qubits\n",
        "qc_measured = qc_example.measure_all(inplace=False)"
      ],
      "metadata": {
        "id": "Xlg_wz5fTLfb"
      },
      "execution_count": 11,
      "outputs": []
    },
    {
      "cell_type": "code",
      "source": [
        "# Use the Sampler primitive for execution\n",
        "sampler = Sampler()\n",
        "job = sampler.run(qc_measured, shots=1000)\n",
        "result = job.result()\n",
        "print(f\" > Quasi Probability Distribution: {result.quasi_dists}\")"
      ],
      "metadata": {
        "colab": {
          "base_uri": "https://localhost:8080/"
        },
        "id": "vPiWnG6CS9r_",
        "outputId": "15c91907-cd8a-46b2-a259-e75e31c79b12"
      },
      "execution_count": 12,
      "outputs": [
        {
          "output_type": "stream",
          "name": "stdout",
          "text": [
            " > Quasi Probability Distribution: [{0: 0.523, 7: 0.477}]\n"
          ]
        }
      ]
    },
    {
      "cell_type": "code",
      "source": [
        "# Define the observable to be measured\n",
        "operator = SparsePauliOp.from_list([(\"XXY\", 1), (\"XYX\", 1), (\"YXX\", 1), (\"YYY\", -1)])"
      ],
      "metadata": {
        "id": "1aN1fq5iTZpV"
      },
      "execution_count": 13,
      "outputs": []
    },
    {
      "cell_type": "code",
      "source": [
        "# Use the Estimator primitive for execution\n",
        "estimator = Estimator()\n",
        "job = estimator.run(qc_example, operator, shots=1000)\n",
        "result = job.result()\n",
        "print(f\" > Expectation values: {result.values}\")"
      ],
      "metadata": {
        "colab": {
          "base_uri": "https://localhost:8080/"
        },
        "id": "imZwWKO7T6i_",
        "outputId": "7e3855a2-ec53-400c-e4d2-6bbc94d376af"
      },
      "execution_count": 14,
      "outputs": [
        {
          "output_type": "stream",
          "name": "stdout",
          "text": [
            " > Expectation values: [4.]\n"
          ]
        }
      ]
    },
    {
      "cell_type": "markdown",
      "source": [
        "\n",
        "Leveraging the Qiskit Sampler and Qiskit Estimator primitives provided by Qiskit has its limitations. The true potential of quantum computing surpasses what can be emulated by classical computers, necessitating the use of actual quantum hardware for executing larger quantum circuits. To run a quantum circuit on real quantum hardware, it's essential to adapt the circuit to the specific basis gates and the connectivity layout of the quantum device. This adaptation is facilitated by a tool known as the transpiler, which Qiskit furnishes with a variety of passes for synthesis, optimization, mapping, and scheduling. Additionally, Qiskit offers a default compiler that efficiently handles most cases, ensuring quantum circuits are suitably prepared for execution on quantum hardware."
      ],
      "metadata": {
        "id": "lgyDnMUwVGFa"
      }
    },
    {
      "cell_type": "code",
      "source": [
        "qc_transpiled = transpile(qc_example, basis_gates = ['cz', 'sx', 'rz'], coupling_map =[[0, 1], [1, 2]] , optimization_level=3)"
      ],
      "metadata": {
        "id": "tYuYwOT_UFmb"
      },
      "execution_count": 15,
      "outputs": []
    },
    {
      "cell_type": "markdown",
      "source": [
        "### Next step: Experiment with execution on quantum hardware using Qiskit"
      ],
      "metadata": {
        "id": "CJh4I1X9Uf6f"
      }
    },
    {
      "cell_type": "code",
      "source": [],
      "metadata": {
        "id": "nPlz1iEXUmwc"
      },
      "execution_count": null,
      "outputs": []
    }
  ]
}